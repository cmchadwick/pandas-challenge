{
 "cells": [
  {
   "cell_type": "code",
   "execution_count": 2,
   "id": "8b698da4-01c2-425c-948a-7ae44efdc8a3",
   "metadata": {},
   "outputs": [
    {
     "ename": "FileNotFoundError",
     "evalue": "[Errno 2] No such file or directory: 'Starter_Code_4/PyCitySchools/Resources/schools_complete.csv'",
     "output_type": "error",
     "traceback": [
      "\u001b[0;31m---------------------------------------------------------------------------\u001b[0m",
      "\u001b[0;31mFileNotFoundError\u001b[0m                         Traceback (most recent call last)",
      "Cell \u001b[0;32mIn[2], line 10\u001b[0m\n\u001b[1;32m      7\u001b[0m student_data_to_load \u001b[38;5;241m=\u001b[39m Path(\u001b[38;5;124m\"\u001b[39m\u001b[38;5;124mStarter_Code_4/PyCitySchools/Resources/students_complete.csv\u001b[39m\u001b[38;5;124m\"\u001b[39m)\n\u001b[1;32m      9\u001b[0m \u001b[38;5;66;03m# Read School and Student Data File and store into Pandas DataFrames\u001b[39;00m\n\u001b[0;32m---> 10\u001b[0m school_data \u001b[38;5;241m=\u001b[39m pd\u001b[38;5;241m.\u001b[39mread_csv(school_data_to_load)\n\u001b[1;32m     11\u001b[0m student_data \u001b[38;5;241m=\u001b[39m pd\u001b[38;5;241m.\u001b[39mread_csv(student_data_to_load)\n\u001b[1;32m     13\u001b[0m \u001b[38;5;66;03m# Combine the data into a single dataset.\u001b[39;00m\n",
      "File \u001b[0;32m/opt/anaconda3/lib/python3.12/site-packages/pandas/io/parsers/readers.py:1026\u001b[0m, in \u001b[0;36mread_csv\u001b[0;34m(filepath_or_buffer, sep, delimiter, header, names, index_col, usecols, dtype, engine, converters, true_values, false_values, skipinitialspace, skiprows, skipfooter, nrows, na_values, keep_default_na, na_filter, verbose, skip_blank_lines, parse_dates, infer_datetime_format, keep_date_col, date_parser, date_format, dayfirst, cache_dates, iterator, chunksize, compression, thousands, decimal, lineterminator, quotechar, quoting, doublequote, escapechar, comment, encoding, encoding_errors, dialect, on_bad_lines, delim_whitespace, low_memory, memory_map, float_precision, storage_options, dtype_backend)\u001b[0m\n\u001b[1;32m   1013\u001b[0m kwds_defaults \u001b[38;5;241m=\u001b[39m _refine_defaults_read(\n\u001b[1;32m   1014\u001b[0m     dialect,\n\u001b[1;32m   1015\u001b[0m     delimiter,\n\u001b[0;32m   (...)\u001b[0m\n\u001b[1;32m   1022\u001b[0m     dtype_backend\u001b[38;5;241m=\u001b[39mdtype_backend,\n\u001b[1;32m   1023\u001b[0m )\n\u001b[1;32m   1024\u001b[0m kwds\u001b[38;5;241m.\u001b[39mupdate(kwds_defaults)\n\u001b[0;32m-> 1026\u001b[0m \u001b[38;5;28;01mreturn\u001b[39;00m _read(filepath_or_buffer, kwds)\n",
      "File \u001b[0;32m/opt/anaconda3/lib/python3.12/site-packages/pandas/io/parsers/readers.py:620\u001b[0m, in \u001b[0;36m_read\u001b[0;34m(filepath_or_buffer, kwds)\u001b[0m\n\u001b[1;32m    617\u001b[0m _validate_names(kwds\u001b[38;5;241m.\u001b[39mget(\u001b[38;5;124m\"\u001b[39m\u001b[38;5;124mnames\u001b[39m\u001b[38;5;124m\"\u001b[39m, \u001b[38;5;28;01mNone\u001b[39;00m))\n\u001b[1;32m    619\u001b[0m \u001b[38;5;66;03m# Create the parser.\u001b[39;00m\n\u001b[0;32m--> 620\u001b[0m parser \u001b[38;5;241m=\u001b[39m TextFileReader(filepath_or_buffer, \u001b[38;5;241m*\u001b[39m\u001b[38;5;241m*\u001b[39mkwds)\n\u001b[1;32m    622\u001b[0m \u001b[38;5;28;01mif\u001b[39;00m chunksize \u001b[38;5;129;01mor\u001b[39;00m iterator:\n\u001b[1;32m    623\u001b[0m     \u001b[38;5;28;01mreturn\u001b[39;00m parser\n",
      "File \u001b[0;32m/opt/anaconda3/lib/python3.12/site-packages/pandas/io/parsers/readers.py:1620\u001b[0m, in \u001b[0;36mTextFileReader.__init__\u001b[0;34m(self, f, engine, **kwds)\u001b[0m\n\u001b[1;32m   1617\u001b[0m     \u001b[38;5;28mself\u001b[39m\u001b[38;5;241m.\u001b[39moptions[\u001b[38;5;124m\"\u001b[39m\u001b[38;5;124mhas_index_names\u001b[39m\u001b[38;5;124m\"\u001b[39m] \u001b[38;5;241m=\u001b[39m kwds[\u001b[38;5;124m\"\u001b[39m\u001b[38;5;124mhas_index_names\u001b[39m\u001b[38;5;124m\"\u001b[39m]\n\u001b[1;32m   1619\u001b[0m \u001b[38;5;28mself\u001b[39m\u001b[38;5;241m.\u001b[39mhandles: IOHandles \u001b[38;5;241m|\u001b[39m \u001b[38;5;28;01mNone\u001b[39;00m \u001b[38;5;241m=\u001b[39m \u001b[38;5;28;01mNone\u001b[39;00m\n\u001b[0;32m-> 1620\u001b[0m \u001b[38;5;28mself\u001b[39m\u001b[38;5;241m.\u001b[39m_engine \u001b[38;5;241m=\u001b[39m \u001b[38;5;28mself\u001b[39m\u001b[38;5;241m.\u001b[39m_make_engine(f, \u001b[38;5;28mself\u001b[39m\u001b[38;5;241m.\u001b[39mengine)\n",
      "File \u001b[0;32m/opt/anaconda3/lib/python3.12/site-packages/pandas/io/parsers/readers.py:1880\u001b[0m, in \u001b[0;36mTextFileReader._make_engine\u001b[0;34m(self, f, engine)\u001b[0m\n\u001b[1;32m   1878\u001b[0m     \u001b[38;5;28;01mif\u001b[39;00m \u001b[38;5;124m\"\u001b[39m\u001b[38;5;124mb\u001b[39m\u001b[38;5;124m\"\u001b[39m \u001b[38;5;129;01mnot\u001b[39;00m \u001b[38;5;129;01min\u001b[39;00m mode:\n\u001b[1;32m   1879\u001b[0m         mode \u001b[38;5;241m+\u001b[39m\u001b[38;5;241m=\u001b[39m \u001b[38;5;124m\"\u001b[39m\u001b[38;5;124mb\u001b[39m\u001b[38;5;124m\"\u001b[39m\n\u001b[0;32m-> 1880\u001b[0m \u001b[38;5;28mself\u001b[39m\u001b[38;5;241m.\u001b[39mhandles \u001b[38;5;241m=\u001b[39m get_handle(\n\u001b[1;32m   1881\u001b[0m     f,\n\u001b[1;32m   1882\u001b[0m     mode,\n\u001b[1;32m   1883\u001b[0m     encoding\u001b[38;5;241m=\u001b[39m\u001b[38;5;28mself\u001b[39m\u001b[38;5;241m.\u001b[39moptions\u001b[38;5;241m.\u001b[39mget(\u001b[38;5;124m\"\u001b[39m\u001b[38;5;124mencoding\u001b[39m\u001b[38;5;124m\"\u001b[39m, \u001b[38;5;28;01mNone\u001b[39;00m),\n\u001b[1;32m   1884\u001b[0m     compression\u001b[38;5;241m=\u001b[39m\u001b[38;5;28mself\u001b[39m\u001b[38;5;241m.\u001b[39moptions\u001b[38;5;241m.\u001b[39mget(\u001b[38;5;124m\"\u001b[39m\u001b[38;5;124mcompression\u001b[39m\u001b[38;5;124m\"\u001b[39m, \u001b[38;5;28;01mNone\u001b[39;00m),\n\u001b[1;32m   1885\u001b[0m     memory_map\u001b[38;5;241m=\u001b[39m\u001b[38;5;28mself\u001b[39m\u001b[38;5;241m.\u001b[39moptions\u001b[38;5;241m.\u001b[39mget(\u001b[38;5;124m\"\u001b[39m\u001b[38;5;124mmemory_map\u001b[39m\u001b[38;5;124m\"\u001b[39m, \u001b[38;5;28;01mFalse\u001b[39;00m),\n\u001b[1;32m   1886\u001b[0m     is_text\u001b[38;5;241m=\u001b[39mis_text,\n\u001b[1;32m   1887\u001b[0m     errors\u001b[38;5;241m=\u001b[39m\u001b[38;5;28mself\u001b[39m\u001b[38;5;241m.\u001b[39moptions\u001b[38;5;241m.\u001b[39mget(\u001b[38;5;124m\"\u001b[39m\u001b[38;5;124mencoding_errors\u001b[39m\u001b[38;5;124m\"\u001b[39m, \u001b[38;5;124m\"\u001b[39m\u001b[38;5;124mstrict\u001b[39m\u001b[38;5;124m\"\u001b[39m),\n\u001b[1;32m   1888\u001b[0m     storage_options\u001b[38;5;241m=\u001b[39m\u001b[38;5;28mself\u001b[39m\u001b[38;5;241m.\u001b[39moptions\u001b[38;5;241m.\u001b[39mget(\u001b[38;5;124m\"\u001b[39m\u001b[38;5;124mstorage_options\u001b[39m\u001b[38;5;124m\"\u001b[39m, \u001b[38;5;28;01mNone\u001b[39;00m),\n\u001b[1;32m   1889\u001b[0m )\n\u001b[1;32m   1890\u001b[0m \u001b[38;5;28;01massert\u001b[39;00m \u001b[38;5;28mself\u001b[39m\u001b[38;5;241m.\u001b[39mhandles \u001b[38;5;129;01mis\u001b[39;00m \u001b[38;5;129;01mnot\u001b[39;00m \u001b[38;5;28;01mNone\u001b[39;00m\n\u001b[1;32m   1891\u001b[0m f \u001b[38;5;241m=\u001b[39m \u001b[38;5;28mself\u001b[39m\u001b[38;5;241m.\u001b[39mhandles\u001b[38;5;241m.\u001b[39mhandle\n",
      "File \u001b[0;32m/opt/anaconda3/lib/python3.12/site-packages/pandas/io/common.py:873\u001b[0m, in \u001b[0;36mget_handle\u001b[0;34m(path_or_buf, mode, encoding, compression, memory_map, is_text, errors, storage_options)\u001b[0m\n\u001b[1;32m    868\u001b[0m \u001b[38;5;28;01melif\u001b[39;00m \u001b[38;5;28misinstance\u001b[39m(handle, \u001b[38;5;28mstr\u001b[39m):\n\u001b[1;32m    869\u001b[0m     \u001b[38;5;66;03m# Check whether the filename is to be opened in binary mode.\u001b[39;00m\n\u001b[1;32m    870\u001b[0m     \u001b[38;5;66;03m# Binary mode does not support 'encoding' and 'newline'.\u001b[39;00m\n\u001b[1;32m    871\u001b[0m     \u001b[38;5;28;01mif\u001b[39;00m ioargs\u001b[38;5;241m.\u001b[39mencoding \u001b[38;5;129;01mand\u001b[39;00m \u001b[38;5;124m\"\u001b[39m\u001b[38;5;124mb\u001b[39m\u001b[38;5;124m\"\u001b[39m \u001b[38;5;129;01mnot\u001b[39;00m \u001b[38;5;129;01min\u001b[39;00m ioargs\u001b[38;5;241m.\u001b[39mmode:\n\u001b[1;32m    872\u001b[0m         \u001b[38;5;66;03m# Encoding\u001b[39;00m\n\u001b[0;32m--> 873\u001b[0m         handle \u001b[38;5;241m=\u001b[39m \u001b[38;5;28mopen\u001b[39m(\n\u001b[1;32m    874\u001b[0m             handle,\n\u001b[1;32m    875\u001b[0m             ioargs\u001b[38;5;241m.\u001b[39mmode,\n\u001b[1;32m    876\u001b[0m             encoding\u001b[38;5;241m=\u001b[39mioargs\u001b[38;5;241m.\u001b[39mencoding,\n\u001b[1;32m    877\u001b[0m             errors\u001b[38;5;241m=\u001b[39merrors,\n\u001b[1;32m    878\u001b[0m             newline\u001b[38;5;241m=\u001b[39m\u001b[38;5;124m\"\u001b[39m\u001b[38;5;124m\"\u001b[39m,\n\u001b[1;32m    879\u001b[0m         )\n\u001b[1;32m    880\u001b[0m     \u001b[38;5;28;01melse\u001b[39;00m:\n\u001b[1;32m    881\u001b[0m         \u001b[38;5;66;03m# Binary mode\u001b[39;00m\n\u001b[1;32m    882\u001b[0m         handle \u001b[38;5;241m=\u001b[39m \u001b[38;5;28mopen\u001b[39m(handle, ioargs\u001b[38;5;241m.\u001b[39mmode)\n",
      "\u001b[0;31mFileNotFoundError\u001b[0m: [Errno 2] No such file or directory: 'Starter_Code_4/PyCitySchools/Resources/schools_complete.csv'"
     ]
    }
   ],
   "source": [
    "# Dependencies and Setup\n",
    "import pandas as pd\n",
    "from pathlib import Path\n",
    "\n",
    "# File to Load (Remember to Change These)\n",
    "school_data_to_load = Path(\"Starter_Code_4/PyCitySchools/Resources/schools_complete.csv\")\n",
    "student_data_to_load = Path(\"Starter_Code_4/PyCitySchools/Resources/students_complete.csv\")\n",
    "\n",
    "# Read School and Student Data File and store into Pandas DataFrames\n",
    "school_data = pd.read_csv(school_data_to_load)\n",
    "student_data = pd.read_csv(student_data_to_load)\n",
    "\n",
    "# Combine the data into a single dataset.\n",
    "school_data_complete = pd.merge(student_data, school_data, how=\"left\", on=[\"school_name\", \"school_name\"])\n",
    "school_data_complete.head()"
   ]
  },
  {
   "cell_type": "code",
   "execution_count": null,
   "id": "0be93c62-ce72-41d9-87d3-90d4896589e1",
   "metadata": {},
   "outputs": [],
   "source": [
    "# Calculate the total number of unique schools\n",
    "school_count = len(school_data_complete[\"school_name\"].unique())\n",
    "school_count"
   ]
  },
  {
   "cell_type": "code",
   "execution_count": null,
   "id": "087a04e4-3bba-4a48-a8bc-05946f08f8dd",
   "metadata": {},
   "outputs": [],
   "source": [
    "# Calculate the total number of students\n",
    "student_count = school_data_complete{\"student_name\"].count()\n",
    "student_count"
   ]
  },
  {
   "cell_type": "code",
   "execution_count": null,
   "id": "e02e1216-f069-4564-a235-c79bd8c4db65",
   "metadata": {},
   "outputs": [],
   "source": [
    "# Calculate the total budget\n",
    "total_budget = school_data[\"budget\"].sum()\n",
    "total_budget"
   ]
  },
  {
   "cell_type": "code",
   "execution_count": null,
   "id": "f873710f-b0d6-49ef-b57f-c03e52116d21",
   "metadata": {},
   "outputs": [],
   "source": [
    "# Calculate the average (mean) math score\n",
    "average_math_score = school_data_complete[\"math_score\"].mean()\n",
    "average_math_score"
   ]
  },
  {
   "cell_type": "code",
   "execution_count": null,
   "id": "611ce60d-031c-4365-8a88-def3bb17cecc",
   "metadata": {},
   "outputs": [],
   "source": [
    "# Calculate the average (mean) reading score\n",
    "average_reading_score = school_data_complete[\"reading_score\"].mean()\n",
    "average_reading_score"
   ]
  },
  {
   "cell_type": "code",
   "execution_count": null,
   "id": "99e26169-5a6e-47fc-b4ad-ad3c4585c3bd",
   "metadata": {},
   "outputs": [],
   "source": [
    "# Use the following to calculate the percentage of students who passed math (math scores greather than or equal to 70)\n",
    "passing_math_count = school_data_complete[(school_data_complete[\"math_score\"] >= 70)].count()[\"student_name\"]\n",
    "passing_math_percentage = passing_math_count / float(student_count) * 100\n",
    "passing_math_percentage"
   ]
  },
  {
   "cell_type": "code",
   "execution_count": null,
   "id": "5f2b1fe4-c94e-4995-8cde-b2311da9473d",
   "metadata": {},
   "outputs": [],
   "source": [
    "# Calculate the percentage of students who passed reading (hint: look at how the math percentage was calculated)\n",
    "passing_reading_count =school_data_complete[(school_data_complete[\"reading_score\"] >= 70)].count()[\"student_name\"]\n",
    "passing_reading_percentage = passing_reading_count / float(student_count) * 100\n",
    "passing_reading_percentage"
   ]
  },
  {
   "cell_type": "code",
   "execution_count": null,
   "id": "f9684206-d330-4d90-8586-7d4098f51f71",
   "metadata": {},
   "outputs": [],
   "source": [
    "# Use the following to calculate the percentage of students that passed math and reading\n",
    "passing_math_reading_count = school_data_complete[\n",
    "    (school_data_complete[\"math_score\"] >= 70) & (school_data_complete[\"reading_score\"] >= 70)\n",
    "].count()[\"student_name\"]\n",
    "overall_passing_rate = passing_math_reading_count /  float(student_count) * 100\n",
    "overall_passing_rate"
   ]
  },
  {
   "cell_type": "code",
   "execution_count": null,
   "id": "82a28796-d1b1-493a-ab23-f4cf895945cd",
   "metadata": {},
   "outputs": [],
   "source": [
    "# Create a high-level snapshot of the district's key metrics in a DataFrame\n",
    "district_summary = pd.dataframe({\"Total Schools\": [school_count],\n",
    "                                 \"Total Students\": [student_count],\n",
    "                                 \"Total Budget\": [total_budget],\n",
    "                                 \"Average Math Score\": [average_math_score],\n",
    "                                 \"Average Reading Score\": [average_reading_score],\n",
    "                                 \"Math Pass Rate\": [passing_math_percentage],\n",
    "                                 \"Reading Pass Rate\": [passing_reading_percentage],\n",
    "                                 \"Overall Pass Rate\": [overall_passing_rate]})\n",
    "                                 \n",
    "                                 \n",
    "\n",
    "\n",
    "# Formatting\n",
    "district_summary[\"Total Students\"] = district_summary[\"Total Students\"].map(\"{:,}\".format)\n",
    "district_summary[\"Total Budget\"] = district_summary[\"Total Budget\"].map(\"${:,.2f}\".format)\n",
    "\n",
    "# Display the DataFrame\n",
    "district_summary"
   ]
  },
  {
   "cell_type": "code",
   "execution_count": null,
   "id": "111bf18f-c9be-423f-9a95-106719d74a6f",
   "metadata": {},
   "outputs": [],
   "source": [
    "# Use the code provided to select the type per school from school_data\n",
    "school_types = school_data.set_index([\"school_name\"])[\"type\"]"
   ]
  },
  {
   "cell_type": "code",
   "execution_count": null,
   "id": "f3642902-4d84-4355-9a46-10126c36f4d2",
   "metadata": {},
   "outputs": [],
   "source": [
    "# Calculate the total student count per school from school_data\n",
    "per_school_counts = school_data[\"school_name\"].value_counts()\n",
    "per_school_counts"
   ]
  },
  {
   "cell_type": "code",
   "execution_count": null,
   "id": "c643268d-738d-42ee-8aa7-ac48f1ca05de",
   "metadata": {},
   "outputs": [],
   "source": [
    "# Calculate the total school budget and per capita spending per school from school_data\n",
    "per_school_budget = school_data_complete.groupby([\"school_name\"]).mean()[\"budget\"]\n",
    "per_school_capita = per_school_budget / per_school_counts"
   ]
  },
  {
   "cell_type": "code",
   "execution_count": null,
   "id": "7d354c8e-d8d8-433b-8cc5-8816ba61baa7",
   "metadata": {},
   "outputs": [],
   "source": [
    "# Calculate the average test scores per school from school_data_complete\n",
    "per_school_math = school_data_complete.groupby([\"school_name\"]).mean()[\"math_score\"]\n",
    "per_school_reading = school_data_complete.groupby([\"school_name\"]).mean()[\"reading_score\"]"
   ]
  },
  {
   "cell_type": "code",
   "execution_count": null,
   "id": "13da122b-fe0a-4c71-8163-fdeb222bc13a",
   "metadata": {},
   "outputs": [],
   "source": [
    "# Calculate the number of students per school with math scores of 70 or higher from school_data_complete\n",
    "students_passing_math = school_data_complete[(school_data_complete[\"math_score\"] >= 70)]\n",
    "school_students_passing_math = students_passing_math.groupby([\"school_name\"]).count()[\"student_name\"] / per_school_count"
   ]
  },
  {
   "cell_type": "code",
   "execution_count": null,
   "id": "9f938b63-e0ce-4da2-aafa-7c92e5cfca16",
   "metadata": {},
   "outputs": [],
   "source": [
    "# Calculate the number of students per school with reading scores of 70 or higher from school_data_complete\n",
    "students_passing_reading = school_data_complete[(school_data_complete[\"reading_score\"] >= 70)]\n",
    "school_students_passing_reading = school_passing_reading.groupby([\"school_name\"]).count()[\"student_name\"] / per_school_count"
   ]
  },
  {
   "cell_type": "code",
   "execution_count": null,
   "id": "51b5d01f-2f62-430b-b130-373b619d08af",
   "metadata": {},
   "outputs": [],
   "source": [
    "# Use the provided code to calculate the number of students per school that passed both math and reading with scores of 70 or higher\n",
    "students_passing_math_and_reading = school_data_complete[\n",
    "    (school_data_complete[\"reading_score\"] >= 70) & (school_data_complete[\"math_score\"] >= 70)\n",
    "]\n",
    "school_students_passing_math_and_reading = students_passing_math_and_reading.groupby([\"school_name\"]).size()"
   ]
  },
  {
   "cell_type": "code",
   "execution_count": null,
   "id": "6bc80193-912f-47c6-a95a-f6a4fb7d54da",
   "metadata": {},
   "outputs": [],
   "source": [
    "# Use the provided code to calculate the passing rates\n",
    "per_school_passing_math = school_students_passing_math / per_school_counts * 100\n",
    "per_school_passing_reading = school_students_passing_reading / per_school_counts * 100\n",
    "overall_passing_rate = school_students_passing_math_and_reading / per_school_counts * 100"
   ]
  },
  {
   "cell_type": "code",
   "execution_count": null,
   "id": "0f42c688-bb1f-461d-8fb2-0e7481b0c9a7",
   "metadata": {},
   "outputs": [],
   "source": [
    "# Create a DataFrame called `per_school_summary` with columns for the calculations above.\n",
    "per_school_summary = pd.DataFrame({\"School Type\": school_types,\n",
    "                                   \"Total Students\": per_school_counts,\n",
    "                                   \"Total School Budget\": per_school_budget,\n",
    "                                   \"Per Student Budget\": per_school_capita,\n",
    "                                   \"Average Math Score\": per_school_math,\n",
    "                                   \"Average Reading Score\": per_school_reading,\n",
    "                                   \"Math Pass Rate\": students_passing_math,\n",
    "                                   \"Reading Pass Rate\": students_passing_reading,\n",
    "                                   \"Overall Pass Rate\": overall_passing_rate})\n",
    "\n",
    "# Formatting\n",
    "per_school_summary[\"Total School Budget\"] = per_school_summary[\"Total School Budget\"].map(\"${:,.2f}\".format)\n",
    "per_school_summary[\"Per Student Budget\"] = per_school_summary[\"Per Student Budget\"].map(\"${:,.2f}\".format)\n",
    "\n",
    "# Display the DataFrame\n",
    "per_school_summary"
   ]
  },
  {
   "cell_type": "code",
   "execution_count": null,
   "id": "62b4d66c-3b0a-4506-81d3-6fdcd0209f51",
   "metadata": {},
   "outputs": [],
   "source": [
    "# Sort the schools by `% Overall Passing` in descending order and display the top 5 rows.\n",
    "top_schools = per_school_summary.sort_values([\"Overall Pass Rate\"], descending=True)\n",
    "top_schools.head(5)"
   ]
  },
  {
   "cell_type": "code",
   "execution_count": null,
   "id": "4ffceb27-9725-42b4-b82a-05968ba47ad2",
   "metadata": {},
   "outputs": [],
   "source": [
    "# Sort the schools by `% Overall Passing` in ascending order and display the top 5 rows.\n",
    "bottom_schools = per_school_summary.sort_values([\"Overall Pass Rate\"], ascending=True)\n",
    "bottom_schools.head(5)"
   ]
  },
  {
   "cell_type": "code",
   "execution_count": null,
   "id": "c3a010c6-f85a-4220-94de-af9d827b7f72",
   "metadata": {},
   "outputs": [],
   "source": [
    "# Use the code provided to separate the data by grade\n",
    "ninth_graders = school_data_complete[(school_data_complete[\"grade\"] == \"9th\")]\n",
    "tenth_graders = school_data_complete[(school_data_complete[\"grade\"] == \"10th\")]\n",
    "eleventh_graders = school_data_complete[(school_data_complete[\"grade\"] == \"11th\")]\n",
    "twelfth_graders = school_data_complete[(school_data_complete[\"grade\"] == \"12th\")]\n",
    "\n",
    "# Group by `school_name` and take the mean of the `math_score` column for each.\n",
    "ninth_grade_math_scores = ninth_graders(school_data_complete[\"math_score\"]).mean()\n",
    "tenth_grader_math_scores = tenth_graders(school_data_complete[\"math_score\"]).mean()\n",
    "eleventh_grader_math_scores = eleventh_graders(school_data_complete[\"math_score\"]).mean()\n",
    "twelfth_grader_math_scores = twelfth_graders(school_data_complete[\"math_score\"]).mean()\n",
    "\n",
    "# Combine each of the scores above into single DataFrame called `math_scores_by_grade`\n",
    "math_scores_by_grade = pd.dataframe({\"Ninth Grade Math Scores\": ninth_grade_math_scores,\n",
    "                                     \"Tenth Grade Math Scores\": tenth_grader_math_scores,\n",
    "                                     \"Eleventh Grade Math Scores\": eleventh_grader_math_scores,\n",
    "                                     \"Twelfth Grade Math Scores\": twelfth_grader_math_scores})\n",
    "\n",
    "# Minor data wrangling\n",
    "math_scores_by_grade.index.name = None\n",
    "\n",
    "# Display the DataFrame\n",
    "math_scores_by_grade"
   ]
  },
  {
   "cell_type": "code",
   "execution_count": null,
   "id": "697b011c-3063-472f-9ac7-a41e8dae479a",
   "metadata": {},
   "outputs": [],
   "source": [
    "# Use the code provided to separate the data by grade\n",
    "ninth_graders = school_data_complete[(school_data_complete[\"grade\"] == \"9th\")]\n",
    "tenth_graders = school_data_complete[(school_data_complete[\"grade\"] == \"10th\")]\n",
    "eleventh_graders = school_data_complete[(school_data_complete[\"grade\"] == \"11th\")]\n",
    "twelfth_graders = school_data_complete[(school_data_complete[\"grade\"] == \"12th\")]\n",
    "\n",
    "# Group by `school_name` and take the mean of the the `reading_score` column for each.\n",
    "ninth_grade_reading_scores = ninth_graders(school_data_complete[\"reading_score\"]).mean()\n",
    "tenth_grader_reading_scores = tenth_graders(school_data_complete[\"reading_score\"]).mean()\n",
    "eleventh_grader_reading_scores = eleventh_graders(school_data_complete[\"reading_score\"]).mean()\n",
    "twelfth_grader_reading_scores = twelfth_graders(school_data_complete[\"reading_score\"]).mean()\n",
    "\n",
    "# Combine each of the scores above into single DataFrame called `reading_scores_by_grade`\n",
    "reading_scores_by_grade = pd.dataframe({\"Ninth Grade Reading Scores\": ninth_grade_reading_scores,\n",
    "                                     \"Tenth Grade Reading Scores\": tenth_grader_reading_scores,\n",
    "                                     \"Eleventh Grade Reading Scores\": eleventh_grader_reading_scores,\n",
    "                                     \"Twelfth Grade Reading Scores\": twelfth_grader_reading_scores})\n",
    "\n",
    "\n",
    "# Minor data wrangling\n",
    "reading_scores_by_grade = reading_scores_by_grade[[\"9th\", \"10th\", \"11th\", \"12th\"]]\n",
    "reading_scores_by_grade.index.name = None\n",
    "\n",
    "# Display the DataFrame\n",
    "reading_scores_by_grade"
   ]
  },
  {
   "cell_type": "code",
   "execution_count": null,
   "id": "527297bd-ab0c-4dab-b3bf-6c97e06b83f8",
   "metadata": {},
   "outputs": [],
   "source": [
    "# Establish the bins\n",
    "spending_bins = [0, 585, 630, 645, 680]\n",
    "labels = [\"<$585\", \"$585-630\", \"$630-645\", \"$645-680\"]"
   ]
  },
  {
   "cell_type": "code",
   "execution_count": null,
   "id": "31c1d6d2-053e-4115-946e-ad526e214534",
   "metadata": {},
   "outputs": [],
   "source": [
    "# Create a copy of the school summary since it has the \"Per Student Budget\"\n",
    "school_spending_df = per_school_summary.copy()"
   ]
  },
  {
   "cell_type": "code",
   "execution_count": null,
   "id": "1cb60e0c-affd-4a4c-8016-6cd094f6d15c",
   "metadata": {},
   "outputs": [],
   "source": [
    "# Use `pd.cut` to categorize spending based on the bins.\n",
    "school_spending_df[\"Spending Ranges (Per Student)\"] = pd.cut(per_school_capita, spending_bins, labels = group_names)\n",
    "school_spending_df"
   ]
  },
  {
   "cell_type": "code",
   "execution_count": null,
   "id": "ba5d2cba-5dfa-4089-9601-11463800f9ee",
   "metadata": {},
   "outputs": [],
   "source": [
    "#  Calculate averages for the desired columns.\n",
    "spending_math_scores = school_spending_df.groupby([\"Spending Ranges (Per Student)\"])[\"Average Math Score\"].mean()\n",
    "spending_reading_scores = school_spending_df.groupby([\"Spending Ranges (Per Student)\"])[\"Average Reading Score\"].mean()\n",
    "spending_passing_math = school_spending_df.groupby([\"Spending Ranges (Per Student)\"])[\"Math Pass Rate\"].mean()\n",
    "spending_passing_reading = school_spending_df.groupby([\"Spending Ranges (Per Student)\"])[\"Reading Pass Rate\"].mean()\n",
    "overall_passing_spending = school_spending_df.groupby([\"Spending Ranges (Per Student)\"])[\"Overall Pass Rate\"].mean()"
   ]
  },
  {
   "cell_type": "code",
   "execution_count": null,
   "id": "be81b376-4a32-4f00-a18e-bc7c7205f5ce",
   "metadata": {},
   "outputs": [],
   "source": [
    "# Assemble into DataFrame\n",
    "spending_summary = pd.DataFrame({\"Average Math Score\" : spending_math_scores,\n",
    "                                 \"Average Reading Score\": spending_reading_scores,\n",
    "                                 \"Math Pass Rate\": spending_passing_math,\n",
    "                                 \"Reading Pass Rate\": spending_passing_reading,\n",
    "                                 \"Overall Pass Rate\": overall_passing_rate})\n",
    "\n",
    "# Display results\n",
    "spending_summary\n"
   ]
  },
  {
   "cell_type": "code",
   "execution_count": null,
   "id": "8340b84e-8c59-461f-8a6e-814ec54bff50",
   "metadata": {},
   "outputs": [],
   "source": [
    "# Establish the bins.\n",
    "size_bins = [0, 1000, 2000, 5000]\n",
    "labels = [\"Small (<1000)\", \"Medium (1000-2000)\", \"Large (2000-5000)\"]\n"
   ]
  },
  {
   "cell_type": "code",
   "execution_count": null,
   "id": "14de50d9-6e38-49c9-8c0a-155d794f3ed1",
   "metadata": {},
   "outputs": [],
   "source": [
    "# Categorize the spending based on the bins\n",
    "# Use `pd.cut` on the \"Total Students\" column of the `per_school_summary` DataFrame.\n",
    "per_school_summary[\"School Size\"] = pd.cut(per_school_summary[\"Total Students\"], size_bins, labels = group_names)\n",
    "per_school_summary"
   ]
  },
  {
   "cell_type": "code",
   "execution_count": null,
   "id": "bc851016-3eb3-44c9-8078-190f6e56bfdf",
   "metadata": {},
   "outputs": [],
   "source": [
    "# Calculate averages for the desired columns.\n",
    "size_math_scores = per_school_summary.groupby([\"School Size\"])[\"Average Math Score\"].mean()\n",
    "size_reading_scores = per_school_summary.groupby([\"School Size\"])[\"Average Reading Score\"].mean()\n",
    "size_passing_math = per_school_summary.groupby([\"School Size\"])[\"Math Pass Rate\"].mean()\n",
    "size_passing_reading = per_school_summary.groupby([\"School Size\"])[\"Reading Pass Rate\"].mean()\n",
    "size_overall_passing = per_school_summary.groupby([\"School Size\"])[\"Overall Pass Rate\"].mean()\n"
   ]
  },
  {
   "cell_type": "code",
   "execution_count": null,
   "id": "96ca8185-0ab5-4eed-9268-f9605e6698a3",
   "metadata": {},
   "outputs": [],
   "source": [
    "# Create a DataFrame called `size_summary` that breaks down school performance based on school size (small, medium, or large).\n",
    "# Use the scores above to create a new DataFrame called `size_summary`\n",
    "size_summary = pd.DataFrame({\"Average Math Score\" : size_math_scores,\n",
    "                             \"Average Reading Score\": size_reading_scores,\n",
    "                             \"Math Pass Rate\": size_passing_math,\n",
    "                             \"Reading Pass Rate\": size_passing_reading,\n",
    "                             \"Overall Pass Rate\": overall_passing_rate})\n",
    "\n",
    "# Display results\n",
    "size_summary"
   ]
  },
  {
   "cell_type": "code",
   "execution_count": null,
   "id": "6d1a6e48-2420-4a73-b665-c03e6efd74bf",
   "metadata": {},
   "outputs": [],
   "source": [
    "# Group the per_school_summary DataFrame by \"School Type\" and average the results.\n",
    "average_math_score_by_type = per_school_summary.groupby([\"School Type\"])[\"Average Math Score\"].mean()\n",
    "average_reading_score_by_type = per_school_summary.groupby([\"School Type\"])[\"Average Reading Score\"].mean()\n",
    "average_percent_passing_math_by_type = per_school_summary.groupby([\"School Type\"])[\"Math Pass Rate\"].mean()\n",
    "average_percent_passing_reading_by_type = per_school_summary.groupby([\"School Type\"])[\"Reading Pass Rate\"].mean()\n",
    "average_percent_overall_passing_by_type = per_school_summary.groupby([\"School Type\"])[\"Overall Pass Rate\"].mean()"
   ]
  },
  {
   "cell_type": "code",
   "execution_count": null,
   "id": "83ef04e6-f79e-464f-bb16-5557c57f1107",
   "metadata": {},
   "outputs": [],
   "source": [
    "# Assemble the new data by type into a DataFrame called `type_summary`\n",
    "type_summary = pd.dataframe({\"Average Math Score\": average_math_score_by_type,\n",
    "                             \"Average Reading Score\": average_reading_score_by_type,\n",
    "                             \"Math Pass Rate\": average_percent_passing_math_by_type,\n",
    "                             \"Reading Pass Rate\": average_percent_passing_reading_by_type,\n",
    "                             \"Overall Pass Rate\": average_percent_overall_passing_by_type})\n",
    "\n",
    "# Display results\n",
    "type_summary"
   ]
  }
 ],
 "metadata": {
  "kernelspec": {
   "display_name": "Python 3 (ipykernel)",
   "language": "python",
   "name": "python3"
  },
  "language_info": {
   "codemirror_mode": {
    "name": "ipython",
    "version": 3
   },
   "file_extension": ".py",
   "mimetype": "text/x-python",
   "name": "python",
   "nbconvert_exporter": "python",
   "pygments_lexer": "ipython3",
   "version": "3.12.4"
  }
 },
 "nbformat": 4,
 "nbformat_minor": 5
}
